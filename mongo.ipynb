{
 "cells": [
  {
   "cell_type": "code",
   "execution_count": null,
   "id": "a8d71b2e-1402-4ac2-86ec-ac68d76bdd57",
   "metadata": {},
   "outputs": [],
   "source": [
    "import pandas as pd\n",
    "from pymongo import MongoClient"
   ]
  },
  {
   "cell_type": "code",
   "execution_count": null,
   "id": "65261975-0e12-46e6-9e29-bb2a20780450",
   "metadata": {},
   "outputs": [],
   "source": [
    "#################################################\n",
    "#This function writes all the stock data in a csv file to MongoDB\n",
    "#################################################\n",
    "# MongoDB Atlas connection string\n",
    "def send_all_data_mongo(connection_string, csv_file_path):\n",
    "    # Connect to MongoDB Atlas\n",
    "    client = MongoClient(connection_string)\n",
    "    \n",
    "    # Select the database and collection\n",
    "    db = client[\"predictive-analysis-dataset\"]  # database name\n",
    "    collection = db[\"stocks\"]  # collection name\n",
    "    \n",
    "    df = pd.read_csv(csv_file_path)\n",
    "    \n",
    "    #Convert DataFrame to List of Dictionaries\n",
    "    data = df.to_dict(orient=\"records\")  # Converts rows into a list of dictionaries\n",
    "    \n",
    "    # Insert data into MongoDB Atlas collection\n",
    "    collection.insert_many(data)\n",
    "    \n",
    "    print(\"Data successfully imported to MongoDB Atlas!\")"
   ]
  },
  {
   "cell_type": "code",
   "execution_count": null,
   "id": "f9d39a86-a498-441e-85ea-4142a625fddb",
   "metadata": {},
   "outputs": [],
   "source": [
    "#################################################\n",
    "#Function call to write data to MongoDB. Change these \n",
    "#values appropriately\n",
    "connection_string = \"\"\n",
    "csv_file_path = \"stock_data.csv\" \n",
    "#################################################\n",
    "send_all_data_mongo(connection_string, csv_file_path)"
   ]
  }
 ],
 "metadata": {
  "kernelspec": {
   "display_name": "Python 3 (ipykernel)",
   "language": "python",
   "name": "python3"
  },
  "language_info": {
   "codemirror_mode": {
    "name": "ipython",
    "version": 3
   },
   "file_extension": ".py",
   "mimetype": "text/x-python",
   "name": "python",
   "nbconvert_exporter": "python",
   "pygments_lexer": "ipython3",
   "version": "3.12.4"
  }
 },
 "nbformat": 4,
 "nbformat_minor": 5
}
