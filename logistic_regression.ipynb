{
 "cells": [
  {
   "cell_type": "code",
   "execution_count": 38,
   "id": "5fcb6a01-2b55-49a7-8fc5-0e111b8cea1a",
   "metadata": {},
   "outputs": [],
   "source": [
    "from sklearn.linear_model import LogisticRegression\n",
    "from sklearn.model_selection import train_test_split\n",
    "from sklearn.metrics import log_loss\n",
    "from sklearn.metrics import accuracy_score\n",
    "import pandas as pd\n",
    "import numpy as np\n",
    "import matplotlib.pyplot as plt\n",
    "from sklearn.model_selection import cross_val_score, KFold"
   ]
  },
  {
   "cell_type": "code",
   "execution_count": 40,
   "id": "c761e15c-48e5-4b90-a98e-1c531e9cf6c5",
   "metadata": {},
   "outputs": [],
   "source": [
    "###########################################################\n",
    "#This function is used for feature engineering. If you want to\n",
    "#see if the model performs better without including volume\n",
    "#and/or sector features, you can change those booleans.\n",
    "##########################################################\n",
    "def drop_columns(include_volume, include_sector, filename):\n",
    "    df = pd.read_csv(filename, header=0)\n",
    "    df = df.drop(columns = ['Date', 'Open', 'High', 'Low', 'Close', 'Adj Close', 'ticker']).dropna()\n",
    "    \n",
    "    if include_volume and include_sector:\n",
    "        df = encode_sector(df)\n",
    "    elif include_volume ^ include_sector:\n",
    "        if include_volume:\n",
    "            df.drop(columns = ['sector'], inplace = True)\n",
    "        else:\n",
    "            df.drop(columns = ['Volume'], inplace = True)\n",
    "            df = encode_sector(df)\n",
    "    else:\n",
    "        df.drop(columns = ['sector', 'Volume'], inplace = True)\n",
    "    return df"
   ]
  },
  {
   "cell_type": "code",
   "execution_count": 42,
   "id": "01aef231-b6eb-4b6e-8c89-1c1a09e624c4",
   "metadata": {},
   "outputs": [],
   "source": [
    "#####################################\n",
    "# one hot encode 'sector' column if\n",
    "# used in the final dataframe\n",
    "#####################################\n",
    "def encode_sector(df):\n",
    "    df_sector = pd.get_dummies(df['sector'], prefix='sector_')\n",
    "    df = df.join(df_sector)\n",
    "    df.drop(columns = 'sector', inplace=True)\n",
    "    return df"
   ]
  },
  {
   "cell_type": "code",
   "execution_count": 44,
   "id": "bbd8e7ec-cf78-447d-9d35-b412c6b91f3c",
   "metadata": {},
   "outputs": [],
   "source": [
    "###########################################\n",
    "#logistic growth function that uses threshold\n",
    "#as an argument to see if different thresholds\n",
    "#would be more optimal\n",
    "###############################################\n",
    "def log_growth(threshold):\n",
    "    include_volume = False\n",
    "    include_sector = True\n",
    "    df = drop_columns(include_volume, include_sector, 'stock_data.csv')\n",
    "    y = df['prediction-label']\n",
    "    X = df.drop(columns = ['prediction-label'])\n",
    "   \n",
    "    X_train, X_test, y_train, y_test = train_test_split(X, y, test_size=0.33)\n",
    "    \n",
    "    model = LogisticRegression(max_iter=1000)\n",
    "\n",
    "    # Fit the model to the training data below\n",
    "    model.fit(X_train, y_train)\n",
    "    \n",
    "    # Make predictions on the test data using the predict_proba() method and assign the \n",
    "    # result to the variable 'probability_predictions' below\n",
    "    probability_predictions = model.predict_proba(X_test)\n",
    "    \n",
    "    # Make predictions on the test data using the predict() method and assign the result \n",
    "    # to the variable 'class_label_predictions' below\n",
    "    \n",
    "    prob_class_1 = probability_predictions[:, 1]\n",
    "    \n",
    "    class_label_predictions = (prob_class_1 >= threshold).astype(int)\n",
    "    #class_label_predictions = model.predict(X_test)\n",
    "    \n",
    "    # Print the first 5 probability class predictions\n",
    "    print('1 indicates the stock will increase. 0 indicates the stock will decrease')\n",
    "    \n",
    "    # Create a DataFrame for the probability predictions and the actual values\n",
    "    df_print = pd.DataFrame(probability_predictions, columns=['Probability 0', 'Probability 1'])\n",
    "    \n",
    "    # Add class label predictions and actual values as new columns\n",
    "    df_print['Class Prediction'] = class_label_predictions\n",
    "    df_print['Actual'] = y_test.values\n",
    "    print('-----------------------------------------------------------')\n",
    "    # Print the first 5 rows with all columns\n",
    "    print('Class Prediction Probabilities and Actuals: \\n' + df_print[0:10].to_string(index=False))\n",
    "    print('-----------------------------------------------------------')\n",
    "    # Compute the log loss on 'probability_predictions' and save the result to the variable\n",
    "    # 'l_loss' below\n",
    "    l_loss = log_loss(y_test, probability_predictions)\n",
    "    print('Log loss: ' + str(l_loss))\n",
    "    \n",
    "    # Compute the accuracy score on 'class_label_predictions' and save the result \n",
    "    # to the variable 'acc_score' below\n",
    "    acc_score = accuracy_score(y_test, class_label_predictions)\n",
    "    print('Accuracy: ' + str(acc_score))\n",
    "    print()\n",
    "    print()\n",
    "    return acc_score"
   ]
  },
  {
   "cell_type": "code",
   "execution_count": 46,
   "id": "750c3f9a-4ad0-412b-acc3-14b878583425",
   "metadata": {},
   "outputs": [
    {
     "name": "stdout",
     "output_type": "stream",
     "text": [
      "1 indicates the stock will increase. 0 indicates the stock will decrease\n",
      "-----------------------------------------------------------\n",
      "Class Prediction Probabilities and Actuals: \n",
      " Probability 0  Probability 1  Class Prediction  Actual\n",
      "      0.377552       0.622448                 1     0.0\n",
      "      0.392013       0.607987                 1     0.0\n",
      "      0.547910       0.452090                 0     0.0\n",
      "      0.587686       0.412314                 0     1.0\n",
      "      0.417896       0.582104                 1     0.0\n",
      "      0.412404       0.587596                 1     1.0\n",
      "      0.696729       0.303271                 0     1.0\n",
      "      0.371212       0.628788                 1     1.0\n",
      "      0.619690       0.380310                 0     0.0\n",
      "      0.529847       0.470153                 0     1.0\n",
      "-----------------------------------------------------------\n",
      "Log loss: 0.6875662048165481\n",
      "Accuracy: 0.5855855855855856\n",
      "\n",
      "\n"
     ]
    },
    {
     "name": "stderr",
     "output_type": "stream",
     "text": [
      "C:\\Users\\User\\anaconda3\\Lib\\site-packages\\sklearn\\linear_model\\_logistic.py:469: ConvergenceWarning: lbfgs failed to converge (status=1):\n",
      "STOP: TOTAL NO. of ITERATIONS REACHED LIMIT.\n",
      "\n",
      "Increase the number of iterations (max_iter) or scale the data as shown in:\n",
      "    https://scikit-learn.org/stable/modules/preprocessing.html\n",
      "Please also refer to the documentation for alternative solver options:\n",
      "    https://scikit-learn.org/stable/modules/linear_model.html#logistic-regression\n",
      "  n_iter_i = _check_optimize_result(\n"
     ]
    },
    {
     "data": {
      "text/plain": [
       "0.5855855855855856"
      ]
     },
     "execution_count": 46,
     "metadata": {},
     "output_type": "execute_result"
    }
   ],
   "source": [
    "###########################################\n",
    "#This function calls performs logistic \n",
    "#regression once. The input argument is the \n",
    "#threshold.\n",
    "###############################################\n",
    "log_growth(0.5)"
   ]
  },
  {
   "cell_type": "code",
   "execution_count": 48,
   "id": "728c8b8c-0fe6-4ceb-ae48-1c9ec75ee21e",
   "metadata": {},
   "outputs": [
    {
     "name": "stdout",
     "output_type": "stream",
     "text": [
      "Each time the model is trained, the accuracy score is added to a list and displayed below:\n",
      "Cross-validation accuracy scores: [0.47524752 0.52475248 0.55445545 0.63366337 0.5049505  0.62376238\n",
      " 0.52475248 0.56435644 0.65       0.63      ]\n",
      "\n",
      "Average accuracy of the above list:\n",
      "Mean accuracy: 0.5685940594059407\n",
      "\n",
      "Each time the model is trained, the log loss is added to a list and displayed below. We want to minimize the loss:\n",
      "Cross-validation log loss scores: [-0.6818724  -0.68106889 -0.71919113 -0.71421397 -0.67278487 -0.68970378\n",
      " -0.66563508 -0.70382035 -0.67618635 -0.67337573]\n",
      "\n",
      "Average log loss of the above list:\n",
      "Mean log loss: 0.6877852549157116\n",
      "\n"
     ]
    },
    {
     "data": {
      "text/plain": [
       "0.5685940594059407"
      ]
     },
     "execution_count": 48,
     "metadata": {},
     "output_type": "execute_result"
    }
   ],
   "source": [
    "###########################################\n",
    "#Running the logistic regression function once results in different\n",
    "#accuracy scores each time just due to the variability in the train\n",
    "#test split. If you want a more stable accuracy measurement, you should\n",
    "#run logistic growth many times, which is what this function\n",
    "#essentially does.\n",
    "###############################################\n",
    "def log_growth_kfold(threshold):\n",
    "    # Drop unwanted columns, adjust as needed\n",
    "    include_volume = False\n",
    "    include_sector = False\n",
    "    df = drop_columns(include_volume, include_sector, 'stock_data.csv')\n",
    "    y = df['prediction-label']\n",
    "    X = df.drop(columns=['prediction-label'])\n",
    "    \n",
    "    # Initialize the logistic regression model\n",
    "    model = LogisticRegression(max_iter=2000)\n",
    "    \n",
    "    # Initialize cross-validation: 5 folds\n",
    "    cv = KFold(n_splits=10, shuffle=True) \n",
    "    \n",
    "    # Perform 5-fold cross-validation\n",
    "    cross_val_accuracies = cross_val_score(model, X, y, cv=cv, scoring='accuracy')\n",
    "    cross_val_log_loss = cross_val_score(model, X, y, cv=cv, scoring='neg_log_loss')  # Negative log loss (to make it positive)\n",
    "\n",
    "    # Print results from cross-validation\n",
    "    print(\"Each time the model is trained, the accuracy score is added to a list and displayed below:\")\n",
    "    print(f\"Cross-validation accuracy scores: {cross_val_accuracies}\")\n",
    "    print()\n",
    "    \n",
    "    print(\"Average accuracy of the above list:\")\n",
    "    print(f\"Mean accuracy: {np.mean(cross_val_accuracies)}\")\n",
    "    print()\n",
    "\n",
    "    print(\"Each time the model is trained, the log loss is added to a list and displayed below. We want to minimize the loss:\")\n",
    "    print(f\"Cross-validation log loss scores: {cross_val_log_loss}\")\n",
    "    print()\n",
    "    \n",
    "    print(\"Average log loss of the above list:\")\n",
    "    print(f\"Mean log loss: {-np.mean(cross_val_log_loss)}\")  # Negative because sklearn returns negative log loss\n",
    "    print()\n",
    "    # Return the mean accuracy from cross-validation\n",
    "    return np.mean(cross_val_accuracies)\n",
    "    \n",
    "log_growth_kfold(0.5)"
   ]
  },
  {
   "cell_type": "code",
   "execution_count": 49,
   "id": "3f42d953-a30d-45e9-9b0e-bdf2750aee23",
   "metadata": {},
   "outputs": [
    {
     "data": {
      "image/png": "[encoded data removed]",
      "text/plain": [
       "<Figure size 640x480 with 1 Axes>"
      ]
     },
     "metadata": {},
     "output_type": "display_data"
    }
   ],
   "source": [
    "##################################################################\n",
    "# Function to calculate accuracy for a given threshold and data split.\n",
    "# Running logistic growth just once could result in different accuracy scores,\n",
    "# This will run logistic gorwth with cross validation so we can run it multiple\n",
    "# times an change the threshold as we choose\n",
    "##################################################################\n",
    "def log_growth_with_cv(threshold, n_splits=5):\n",
    "    include_volume = False\n",
    "    include_sector = False\n",
    "    df = drop_columns(include_volume, include_sector, 'stock_data.csv')\n",
    "    y = df['prediction-label']\n",
    "    X = df.drop(columns=['prediction-label'])\n",
    "    \n",
    "    # Initialize cross-validation\n",
    "    kf = KFold(n_splits=5)\n",
    "    \n",
    "    accuracy_scores = []  # List to store accuracy scores for each fold\n",
    "    \n",
    "    for train_index, test_index in kf.split(X):\n",
    "        # Split the data based on the current fold\n",
    "        X_train, X_test = X.iloc[train_index], X.iloc[test_index]\n",
    "        y_train, y_test = y.iloc[train_index], y.iloc[test_index]\n",
    "        \n",
    "        model = LogisticRegression(max_iter=2000)\n",
    "        model.fit(X_train, y_train)\n",
    "        \n",
    "        # Get the probability predictions\n",
    "        probability_predictions = model.predict_proba(X_test)\n",
    "        prob_class_1 = probability_predictions[:, 1]\n",
    "        \n",
    "        # Apply the threshold\n",
    "        class_label_predictions = (prob_class_1 >= threshold).astype(int)\n",
    "        \n",
    "        # Compute accuracy for this fold\n",
    "        acc_score = accuracy_score(y_test, class_label_predictions)\n",
    "        accuracy_scores.append(acc_score)\n",
    "    \n",
    "    # Return the average accuracy across all folds\n",
    "    return np.mean(accuracy_scores)\n",
    "    \n",
    "##################################################################\n",
    "# Wrapper function to test multiple thresholds and plot results\n",
    "# This takes a few seconds to produce a plot\n",
    "##################################################################\n",
    "def test_thresholds_with_cv_and_plot():\n",
    "    accuracy_scores = []\n",
    "    thresholds = [x / 20.0 for x in range(4, 18)]  # [0.2, 0.3, ..., 0.8]\n",
    "    \n",
    "    # Evaluate accuracy for each threshold\n",
    "    for threshold in thresholds:\n",
    "        accuracy = log_growth_with_cv(threshold)\n",
    "        accuracy_scores.append(accuracy)\n",
    "    \n",
    "    plt.plot(thresholds, accuracy_scores, marker='.')\n",
    "    plt.title('Accuracy vs. Threshold with Cross-validation', fontweight='bold')\n",
    "    plt.xlabel('Threshold', fontweight='bold')\n",
    "    plt.ylabel('Average Accuracy', fontweight='bold')\n",
    "    plt.grid(True)\n",
    "    plt.show()\n",
    "\n",
    "# Example usage (pass your DataFrame to the function)\n",
    "test_thresholds_with_cv_and_plot()\n"
   ]
  },
  {
   "cell_type": "code",
   "execution_count": null,
   "id": "bd91a711-b9ea-4724-a334-a6c979a88cfb",
   "metadata": {},
   "outputs": [],
   "source": []
  }
 ],
 "metadata": {
  "kernelspec": {
   "display_name": "Python 3 (ipykernel)",
   "language": "python",
   "name": "python3"
  },
  "language_info": {
   "codemirror_mode": {
    "name": "ipython",
    "version": 3
   },
   "file_extension": ".py",
   "mimetype": "text/x-python",
   "name": "python",
   "nbconvert_exporter": "python",
   "pygments_lexer": "ipython3",
   "version": "3.12.4"
  }
 },
 "nbformat": 4,
 "nbformat_minor": 5
}
