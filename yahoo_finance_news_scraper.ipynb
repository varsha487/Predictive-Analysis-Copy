{
 "cells": [
  {
   "cell_type": "markdown",
   "metadata": {},
   "source": [
    "# Yahoo Finance News Web Scraper\n",
    "Notes: \n",
    "* Continued issues accessing articles behind a paywall or external source (e.g., https://finance.yahoo.com/news/top-midday-stories-pepsico-buy-160405890.html)"
   ]
  },
  {
   "cell_type": "code",
   "execution_count": 187,
   "metadata": {},
   "outputs": [],
   "source": [
    "import re\n",
    "import csv\n",
    "from time import sleep\n",
    "from bs4 import BeautifulSoup\n",
    "import requests\n",
    "import yfinance as yf"
   ]
  },
  {
   "cell_type": "code",
   "execution_count": 188,
   "metadata": {},
   "outputs": [],
   "source": [
    "import pandas as pd\n",
    "import numpy as np\n",
    "from bs4 import BeautifulSoup\n",
    "import math\n",
    "import re\n",
    "# import openpyxl\n",
    "\n",
    "# import requests\n",
    "# TODO: Compare using requests vs using drivers\n",
    "\n",
    "from selenium import webdriver\n",
    "from selenium.webdriver.support.ui import WebDriverWait\n",
    "from selenium.webdriver.support import expected_conditions as EC\n",
    "from selenium.webdriver.common.by import By\n",
    "from selenium.common.exceptions import TimeoutException\n",
    "\n",
    "from seleniumbase import Driver"
   ]
  },
  {
   "cell_type": "code",
   "execution_count": 189,
   "metadata": {},
   "outputs": [],
   "source": [
    "# Set up web driver\n",
    "options = webdriver.ChromeOptions()\n",
    "driver = Driver(uc=True, incognito=True)"
   ]
  },
  {
   "cell_type": "code",
   "execution_count": 190,
   "metadata": {},
   "outputs": [],
   "source": [
    "# Get website html data \n",
    "def get_basesoup(driver, url, wait=False, until_class='ClassOfMyElement'):\n",
    "    driver.get(url)\n",
    "\n",
    "    # Wait for page and element to completely load\n",
    "    if wait:\n",
    "        delay = 3 # seconds\n",
    "        try:\n",
    "            WebDriverWait(driver, delay).until(EC.presence_of_element_located((By.CLASS_NAME, until_class)))\n",
    "        except TimeoutException:\n",
    "            print(\"Loading took too much time!\")\n",
    "    \n",
    "    basesoup=BeautifulSoup(driver.page_source,\"html.parser\")\n",
    "    return basesoup"
   ]
  },
  {
   "cell_type": "code",
   "execution_count": 191,
   "metadata": {},
   "outputs": [],
   "source": [
    "def get_news_info(url):\n",
    "    '''\n",
    "    Return a list of strings for a given url, \n",
    "    where each string is a sentence in the linked article.\n",
    "    '''\n",
    "    soup = get_basesoup(driver, url)\n",
    "\n",
    "    try:\n",
    "        article = soup.find(\"div\", class_=\"article-wrap no-bb\")\n",
    "        \n",
    "        if not article:\n",
    "            print(f\"No articles found on page {url}\")\n",
    "            return []\n",
    "\n",
    "        # cover_wrap = article.find(\"div\", class_=\"cover-wrap yf-1p8y0lh\")\n",
    "        # title = cover_wrap.find(\"h1\", class_=\"cover-title yf-1p8y0lh\")\n",
    "             \n",
    "        body_wrap = article.find(\"div\", class_=\"body-wrap yf-i23rhs\")\n",
    "        body = body_wrap.find(\"div\", class_=\"body yf-5ef8bf\")\n",
    "        text = body.find_all(\"p\", class_=\"yf-1pe5jgt\")\n",
    "        # for paragraph in text:\n",
    "        #     print(paragraph.text.strip())\n",
    "        \n",
    "        return [paragraph.text.strip() for paragraph in text]\n",
    "            \n",
    "        \n",
    "    except:\n",
    "        print(f\"Error accessing articles on page {url}\")\n",
    "        return []\n",
    "    \n",
    "    "
   ]
  },
  {
   "cell_type": "code",
   "execution_count": 192,
   "metadata": {},
   "outputs": [
    {
     "data": {
      "text/plain": [
       "{'https://finance.yahoo.com/m/29c92e28-b5ab-392e-8f22-ae525864f9e8/tesla-earnings-due-after.html',\n",
       " 'https://finance.yahoo.com/m/4d8cdde7-a669-3553-b6b6-a30499bdc041/bad-evs%2C-a-giant-meat-recall%2C.html',\n",
       " 'https://finance.yahoo.com/m/632b6af3-08a3-389b-b46a-4e29e4c056cb/3-reasons-rivian-is-the.html',\n",
       " 'https://finance.yahoo.com/m/dd849627-6fd9-3fb5-8c4d-0b7520e45713/tesla-executive-attacks.html',\n",
       " 'https://finance.yahoo.com/m/eeafd800-e38b-392e-ace5-c38f67faa5e8/tesla-stock-falls-after.html',\n",
       " 'https://finance.yahoo.com/m/fe9aaa97-1fee-3520-9247-c47d4a5bf9a2/elon-musk%27s-tesla-robot.html',\n",
       " 'https://finance.yahoo.com/news/elon-musk-spent-teen-years-143036203.html',\n",
       " 'https://finance.yahoo.com/news/nhtsa-opens-defect-investigation-tesla-122206336.html'}"
      ]
     },
     "execution_count": 192,
     "metadata": {},
     "output_type": "execute_result"
    }
   ],
   "source": [
    "# Input company\n",
    "ticker = 'TSLA' # Currently hard-coded. Replace with user input.\n",
    "\n",
    "# Access company news\n",
    "news = yf.Ticker(ticker).news\n",
    "\n",
    "# # Article is a dictionary, info is a key value pairing\n",
    "# for article in news:\n",
    "#     [print(info) for info in article.items()]\n",
    "\n",
    "# Construct list of urls\n",
    "urls = {dictionary['link'] for dictionary in news}   \n",
    "urls"
   ]
  },
  {
   "cell_type": "code",
   "execution_count": 193,
   "metadata": {},
   "outputs": [
    {
     "data": {
      "text/plain": [
       "['',\n",
       " 'Major U.S. indexes lost ground at midday Tuesday as worries about rising tensions in the Middle East weighed on markets.',\n",
       " 'Oil prices rose, lifting shares of APA and other companies in the oil industry.',\n",
       " 'Apple shares fell as Barclays warned of weak demand for the iPhone 16.',\n",
       " '',\n",
       " 'Major U.S. indexes lost ground to begin the new month and quarter at midday Tuesday as concerns about Middle East tensions rattled the market. The Nasdaq fell more than 2%, the S&P 500 lost 1%, and the Dow was lower as well.',\n",
       " 'Shares of APA Corporation (APA) and other oil companies advanced along with the price of crude on concerns about tensions in the Middle East.',\n",
       " 'The prospect of escalating conflict in the region also lifted shares of military contractors Northrop Grumman (NOC) and Lockheed Martin (LMT).',\n",
       " 'Tesla (TSLA) shares declined as Chinese electric vehicle (EV) rivals posted record September deliveries and Apple (AAPL) shares fell as Barclays warned of weak demand for the iPhone 16.',\n",
       " 'Shares of Amentum (AMTM) plunged after soaring yesterday when the engineering services firm had its first trading day as a member of the S&P 500 index.',\n",
       " \"United Natural Foods (UNFI) shares soared as the grocery wholesaler reported a surprise adjusted profit on booming sales from its biggest customer, Amazon's (AMZN) Whole Foods.\",\n",
       " 'The Middle East worries drove investors to traditional safe havens including gold and U.S. Treasurys, which moved higher. The U.S. dollar was up on the euro and pound, but lost ground to the yen. Most major cryptocurrencies traded lower.',\n",
       " 'Read the original article on Investopedia.']"
      ]
     },
     "execution_count": 193,
     "metadata": {},
     "output_type": "execute_result"
    }
   ],
   "source": [
    "# Scrape one article\n",
    "get_news_info(\"https://finance.yahoo.com/news/top-stock-movers-now-apa-172011005.html\")"
   ]
  },
  {
   "cell_type": "code",
   "execution_count": 194,
   "metadata": {},
   "outputs": [
    {
     "name": "stdout",
     "output_type": "stream",
     "text": [
      "['About 10% of electric vehicle owners regret their purchases, according to a new survey, though the figure varies significantly depending on the automaker.', 'Read More', 'Major retailers, including Amazon (AMZN), Costco (COST), Walmart (WMT), and Trader Joe’s, have issued a nationwide recall for over 300 ready-to-eat meals due to a potential outbreak of Listeria monocytogenes.', 'Read More', 'Amazon (AMZN) is joining its artificial intelligence competitors in the race for nuclear energy.', 'Read More', 'When deciding where to live in the U.S., many people take safety into consideration – not only for their families but for themselves.', 'Read More', 'Since releasing its Mate 60 Pro series last August, Chinese tech giant Huawei has made a comeback in China’s smartphone market, knocking Apple (AAPL) from its pedestal.', 'Read More', 'The U.S. economy remains a heated topic in presidential debates and a top concern for American voters. Eight in ten registered voters say it will be crucial to their vote in the 2024 presidential elections.', 'Read More', 'JPMorgan Chase (JPM) held onto its spot as the artificial intelligence adoption leader in the banking sector.', 'Read More', 'Tesla (TSLA) on Thursday tried to show off its Optimus project again after an event featuring them last week “tricked” some analysts who were unaware the humanoid robots were being assisted remotely.', 'Read More', 'Boeing (BA) is about to start the countdown clock on 10% of its workforce losing their jobs. Reuters reports that the company will begin sending 60-day notices to affected employees next month.', 'Read More', 'Meta (META), the parent company of Facebook, Instagram and WhatsApp, fired over 20 employees last week for abusing the company’s food credit system to buy household items.', 'Read More', 'Elon Musk became one of the largest donors of the entire 2024 election cycle in just three months.', 'Read More', 'Lina Khan, the head of the Federal Trade Commission (FTC), has emerged as one of the “most feared people in Silicon Valley” and an enemy of Wall Street.', 'Read More', 'We all deserve a vacation from time to time; the pressures of work, school, and personal relationships are enough to make anyone crave a long weekend in a new city, with high-quality meals and luxurious accommodations.', 'Read More', 'Hurricane Milton has blown through and the worst is over for Florida. But it’s not over for everyone. Meteorologists warn we’ll get stronger and more frequent tropical storms in the coming years, as the oceans warm and sea levels rise thanks to climate change.', 'Read More', 'Boeing (BA) rival Airbus (AIR) is slashing 2,500 jobs in its Defence and Space division as it continues to struggle to find its footing.', 'Read More', 'Hundreds of products sold in the nation’s top grocery chains, including Walmart (WMT), Kroger (KR), 7-Eleven (SVNDY), and Trader Joe’s, have been recalled over concerns of listeria contamination.', 'Read More', 'I love sports sedans. You love sports sedans. We all love sports sedans. That’s why it comes as no surprise that you folks were so passionate about the best sports sedans of all time when I asked you to tell me your favorite in last week’s question of the day.', 'Read More', 'We’ve already shown you Consumer Reports’ list of the most reliable cars for less than $30,000, but what if you care about more than just reliability? You don’t always have to sacrifice reliability to find a car that’s well-rounded and offers more in the way of features than simply not breaking.', 'Read More', 'For the latest news, Facebook, Twitter and Instagram.']\n",
      "['The NHTSA has opened a defect investigation into Tesla’s (TSLA) Full Self-Driving system following reports of four crashes, one of which resulted in a fatality. Failure of the system engineering controls to react appropriately to reduced roadway visibility conditions, the NHTSA said. NHTSA is estimating 2.4 million vehicles are subject to the investigation. The products involved are the Model S, Model X, Model 3, Model Y and Cybertruck.', 'Published first on TheFly – the ultimate source for real-time, market-moving breaking financial news. Try Now>>', 'See the top stocks recommended by analysts >>', 'Read More on TSLA:', 'Tesla yet to receive permission to test FSD in China, China Daily says', 'Down 15% in October: Canaccord Says Buy Tesla Stock', 'Is Tesla Stock (NASDAQ:TSLA) a Buy Ahead of Its Q3 Earnings?', 'Generac price target raised to $190 from $175 at Piper Sandler', 'SolarEdge price target lowered to $17 from $25 at Piper Sandler']\n",
      "['Tesla (NASDAQ: TSLA) hosted an event called \"We, Robot\" last week to display its prototype-autonomous vehicles and humanoid robots. Investors were disappointed. Tesla shares are now down 10% in the last five trading days (as of this writing) as Wall Street gets increasingly skeptical on how material the \"Cybercab\" and Tesla Optimus Bots will be to the company\\'s bottom line anytime soon.', \"As usual, this event came with a lot of fanfare, drama, and promises from Tesla CEO Elon Musk. Will the company make good on what he said? And should you buy the dip on the stock? Time to analyze the potential of these new products and whether they can add trillions of dollars to Tesla's market cap as Musk has prophesized.\", 'Tesla has been working on self-driving vehicle technology for more than a decade. Musk has promised numerous times that the company was on the verge of bringing full self-driving software to Tesla vehicles, usually within a few years. Most famously -- or perhaps infamously -- he said in 2019 that there would be 1 million \"robotaxis\" on the road by the end of 2020. This didn\\'t happen.', \"Last week had a similar feel. Musk came to the event in what Tesla is calling a Cybercab, a futuristic-looking taxi with doors that open vertically. They also debuted a prototype for a self-driving van in the same style. According to the company, the Cybercab will go into production in 2026, but it gave no timeline for the van. Tesla wants to build these vehicles and the associated self-driving software to attack Uber's business, allowing owners and/or Tesla itself to use this fleet of vehicles to operate a ride-sharing network with zero human drivers. If successful, it has the potential to radically lower the cost of taxi rides.\", 'On top of the robotic vehicles, Tesla made a big push to highlight its research into the Tesla Optimus Bot, which is a robot that looks like a human. Tesla claims the robot will be able to do any task you ask it to. In typical Musk fashion, he was optimistic about how much value it could bring to Tesla, projecting upwards of $25 trillion in value added to its market cap just from the Optimus product line. It is unclear what analysis led him to come to this conclusion.', 'There are a lot of numbers thrown around by Tesla when it comes to robotics: Millions of robotaxis; trillions of dollars in market value. There is also a lot of bark coming from the company. However, there is not much bite in the form of real products getting sold to customers today.', \"If I was a Tesla investor, I would be worried that this is just another event with announcements for products that eventually get delayed. Tesla seems to be betting its future on artificial intelligence (AI), robotics, and autonomous vehicles. But so far it's only built prototypes. Its current full self-driving software is a bit of a misnomer in that it still needs humans operating the vehicle. Unlike Waymo, which has licenses to operate a fleet of actual robotaxis in cities across the United States, Tesla's self-driving network is nothing more than an idea right now.\", \"There should also be concerns about the Optimus Bot prototype. It has come out in the days following the event that the bots were being remote-controlled by humans when interacting with guests. This is not exactly close to the autonomous robot that Musk has promised; it's also misleading investors and the company's biggest customers.\", 'Tesla stock has done phenomenal over the long term. It is also down 47% from all-time highs set in late 2021. Given all the hype around these AI and robotics products -- not to mention the huge electric vehicle (EV) and battery-storage divisions -- you might think it is smart to buy the dip on Tesla stock after its recent fall.', \"I think this is misguided thinking based on promises yet to be fulfilled. Given the information about the robotaxis and Optimus Bot at the event, it is highly likely that these products will not be meaningful to Tesla's business for at least the next five years, if ever. This leaves investors with the current EV and battery-storage business.\", \"There shouldn't be much optimism around these segments, either. Due to huge supply increases for EVs and profit-margin compression, Tesla's operating income and free cash flow have plummeted in recent quarters. Over the last 12 months, it has generated just $1.7 billion in free cash flow. That is a measly figure compared to its market cap of $686 billion.\", 'Tesla stock looked overvalued before this \"We, Robot\" event. With no new products coming until at least a few years and unproven technology, it is still overvalued after the event as well.', 'Before you buy stock in Tesla, consider this:', 'The Motley Fool Stock Advisor analyst team just identified what they believe are the\\xa010 best stocks for investors to buy now… and Tesla wasn’t one of them. The 10 stocks that made the cut could produce monster returns in the coming years.', 'Consider when\\xa0Nvidia made this list on April 15, 2005... if you invested $1,000 at the time of our recommendation, you’d have $839,122!*', 'Stock Advisor provides investors with an easy-to-follow blueprint for success, including guidance on building a portfolio, regular updates from analysts, and two new stock picks each month. The\\xa0Stock Advisor\\xa0service has more than quadrupled the return of S&P 500 since 2002*.', 'See the 10 stocks »', '*Stock Advisor returns as of October 14, 2024', 'Brett Schafer has no position in any of the stocks mentioned. The Motley Fool has positions in and recommends Tesla and Uber Technologies. The Motley Fool has a disclosure policy.', 'Tesla Stock Falls After Lackluster Robotaxi Event: Time to Buy the Dip? was originally published by The Motley Fool']\n",
      "['A senior Tesla executive has quit with a stinging attack on Europe’s competitiveness after regulators\\xa0slammed the brakes on Elon Musk’s self-driving technology.', 'Marc Van Impe, Tesla’s outgoing head of global vehicle automation and safety policy, said a crucial decision on rules governing how the system would work on Britain and Europe’s roads had been delayed, possibly until as late as 2028.', 'The delay means Tesla’s Full Self-Driving software (FSD) may\\xa0not be allowed on UK roads until almost a decade after it was launched in the US. It would make Britain among the last major international markets to allow the technology.', 'Mr Van Impe hit out at officials for the delay, saying the move “impacts European competitiveness” and claimed that safety rules were failing to allow “innovative technologies”.', 'Mr Musk rolled out FSD in the US in 2020 and is now preparing to launch the system in China after a\\xa0charm offensive with officials on a visit to Beijing earlier this year and a mapping tie-up with tech company Baidu.', 'Driver assistance features in the UK and European Union are governed by regulations imposed by the United Nations Economic Commission for Europe (UNECE), which includes Britain among its members.', 'The UNECE has been drawing up\\xa0standards to govern self-driving technologies and driver-assistance features for four years, seeking to come up with a so-called “type-approval framework” that manufacturers could conform to in order to be roadworthy.', 'Tesla had led industry efforts to reform the rules as it seeks to expand its FSD software into Europe, a potential step towards Mr Musk’s plans to launch fleets of fully-autonomous\\xa0“robotaxis” around the world.', 'It had hoped the process would pave the way for the widespread adoption of advanced driver assistance systems in Britain and the EU. However, the UNECE recently adopted a stripped-down version of the rules aimed at more basic manoeuvres, such as cars automatically changing lanes on motorways.', 'Wider-ranging rules that would have allowed the FSD systems to travel around busy cities are now not expected for several years.', '“Sadly the decision was made to delay some of these capabilities for urban environments – possibly until 2028(!),” Mr Van Impe wrote in a LinkedIn post announcing his departure from Tesla.', '“This impacts Europe’s competitiveness and it’s clear that the type-approval framework needs to evolve to better and more quickly tackle innovative technologies.”', 'Tesla has been leading industry efforts to agree on the rules for self-driving cars in the region. However, it has in the last few weeks handed governance of the car industry group working on the rules to representatives from BMW and Wayve, the British driverless car company.', 'Mr Van Impe, who had been key to Tesla’s efforts, has moved to Mr Musk’s SpaceX to work on policy issues there.', 'As recently as last month Mr Musk had said Tesla planned to launch FSD in Europe in the first few months of 2025, although this would depend on regulations.', 'The software can make turns at junctions, change lanes and stop at traffic lights, and is a more advanced version of its Autopilot cruise control system.', 'Tesla may yet seek to launch a pared down version of FSD in line with the regulations as they stand.', 'Some car companies have sought individual exceptions to the UNECE rules to allow new technology, such as when Ford launched its hands free BlueCruise system in Britain last year.', 'FSD is seen as a crucial step towards Mr Musk’s ultimate dream of launching fleets of self-driving robotaxis that do not feature steering wheels or pedals.', 'The billionaire unveiled a concept robotaxi and 20-seat “robovan” earlier this month, although investors were unimpressed at the lack of detail in the presentation, with shares falling by as much as 10pc after the announcement.', 'Self-driving technology is seen as a crucial asset for Tesla as a wave of Chinese newcomers and legacy manufacturers seek to squeeze its position as the world’s biggest electric car maker.', 'The company has faced a series of US investigations over FSD. US regulators opened a new investigation on Friday over concerns they struggled when visibility is reduced, such as in foggy conditions. Unlike rivals, Tesla’s self-driving technology relies on cameras rather than lasers and radar to map its surroundings. As a result, bad weather can impact performance.', 'Broaden your horizons with award-winning British journalism. Try The Telegraph free for 3 months with unlimited access to our award-winning website, exclusive app, money-saving offers and more.']\n",
      "[\"Tesla, the iconic electric vehicle maker headed by its boisterous CEO Elon Musk, has sold millions of cars and trucks since its founding more than 20 years ago. Over the last decade alone, Tesla's share price has appreciated by more than 1,300%, giving the company a market capitalization of roughly $700 billion.\", \"While Tesla remains a fine investment today, investors looking for the biggest growth opportunities should be working to identify the next Tesla. If that's your goal, look no further than Rivian Automotive (NASDAQ: RIVN). There are three crystal clear reasons to expect its stock price to take off in a big way over the next few years.\", 'Tesla was able to achieve a positive gross margin very early in its history. Rivian, meanwhile, is still struggling to reach this financial milestone. Last quarter, it lost more than $30,000 for every vehicle it sold. This is a huge improvement from previous levels, but still an obvious challenge for a company in a capital-intensive industry rife with historical failure often stemming from a lack of capital resources.', 'If Rivian wants to take the next step in its evolution -- and, most importantly, be able to achieve the next milestone on this list -- it needs to prove to the market that it can sell its products at a profit. The good news is that management expects to achieve positive gross margin by the end of this fiscal year.', \"There are two quarters left in Rivian's fiscal year, with the next quarterly results expected in early November. To be sure, there's still a giant gulf for the company to cross before it can report a positive gross margin. But management hasn't reneged on its promise yet, even if the market isn't pricing in any success.\", 'If the company reports a positive gross margin this fiscal year, expect the stock price to move strongly on the news, as the next milestone on this list becomes significantly more likely to be realized.', \"A decade ago, Tesla's revenue base was roughly similar to Rivian's today. But over the last 10 years, Tesla has grown its revenue base by nearly 1,000%. Can Rivian achieve the same kind of growth? Absolutely, just as long as it's able to get its new mass market vehicles to customers on time and at their promised price points.\", \"Earlier this year, Rivian surprised investors by announcing three new mass market models: the R2, R3, and R3X. All are expected to debut under $50,000. And given Rivian's strong brand loyalty and reputation, expect plenty of demand when these vehicles hit the road. That's exactly what Tesla achieved when it launched its mass market models, the Model Y and the Model 3. While previous luxury models created a brand for Tesla, it was these mass market models that truly sent its sales base soaring.\", \"It should be noted, however, that Rivian's mass market models are still currently prototypes. It will likely take billions in additional capital to get these cars to market. Huge sums will be needed for design, testing, marketing, manufacturing, and aftermarket service. But if Rivian can reach gross profitability soon, the market may gain enough confidence to finance Rivian's negative cash flows until it can get these vehicles into the hands of millions of new consumers.\", \"Despite trading at a premium early on in its trading history, Rivian stock now trades at a deep discount to Tesla shares. For example, Rivian stock now sits at under 2 times sales, while Tesla shares are valued above 8 times sales. This looks like a bargain entry point for Rivian stock right before its sales ramp up heavily from the launch of its mass market vehicles. But there's a big catch.\", \"Rivian's management team expects to launch the first of its three mass market vehicles sometime in 2026 -- although these timelines very often get shifted back due to the complexities involved in ramping up new manufacturing facilities. The R3 and R3X, meanwhile, may not hit the roads until 2027. That's several years away, a big cause for Rivian's discounted valuation.\", \"If you're looking to make a quick buck betting on a convergence between Rivian and Tesla's valuation, don't expect a high probability of success. Apart from news related to Rivian's gross margin, there won't be many major catalysts for another couple of years.\", 'This is where patience can pay off. If Rivian is able to successfully launch its mass market vehicles beginning in 2026, expect sales growth to explode, with additional launches in 2027 only adding to this sales arc. But there will be plenty of volatility in the meantime, fueled by an outright lack of hard news.', \"It's not hard to chart out how Rivian stock is extremely undervalued right now. But it'll be years before investors figure out whether the investment thesis is correct or not. Patient investors willing to hold on for a chance to make huge profits should consider taking a position -- just don't expect a big payoff anytime soon.\", 'Before you buy stock in Rivian Automotive, consider this:', 'The Motley Fool Stock Advisor analyst team just identified what they believe are the\\xa010 best stocks for investors to buy now… and Rivian Automotive wasn’t one of them. The 10 stocks that made the cut could produce monster returns in the coming years.', 'Consider when\\xa0Nvidia made this list on April 15, 2005... if you invested $1,000 at the time of our recommendation, you’d have $845,679!*', 'Stock Advisor provides investors with an easy-to-follow blueprint for success, including guidance on building a portfolio, regular updates from analysts, and two new stock picks each month. The\\xa0Stock Advisor\\xa0service has more than quadrupled the return of S&P 500 since 2002*.', 'See the 10 stocks »', '*Stock Advisor returns as of October 14, 2024', 'Ryan Vanzo has no position in any of the stocks mentioned. The Motley Fool has positions in and recommends Tesla. The Motley Fool has a disclosure policy.', '3 Reasons Rivian Is the Smartest Electric Vehicle (EV) Stock to Buy Right Now was originally published by The Motley Fool']\n",
      "['Tesla dived on Q3 deliveries and the robotaxi event, but steadied ahead of earnings. BYD rebounded back into a buy zone Friday.']\n",
      "['Before Elon Musk became the billionaire CEO of Tesla and SpaceX, he was just a teenager trying to make ends meet in Canada. His ascent to the top wasn’t easy, nor was it particularly glamorous, as evident in Ashlee Vance’s book, Elon Musk: Tesla, SpaceX, and the Quest for a Fantastic Future.', \"Don't Miss:\", \"‘Scrolling to UBI': Deloitte's #1 fastest-growing software company allows users to earn money on their phones – invest today with $1,000 for just $0.25/share\", 'The global games market is projected to generate $272B by the end of the year — for $0.55/share, this VC-backed startup with a 7M+ userbase gives investors easy access to this asset market.', 'At 17, Musk left his home in South Africa and headed to Canada, hoping to eventually make it to the United States. He obtained citizenship with the help of his mother, who was born in Canada, but in the interim, he had to accept whatever job he could find to make ends meet.', 'One of Musk’s first jobs was at his cousin’s farm in Saskatchewan, a small village with fewer than 300 people. He worked as a vegetable gardener and grain bin shoveler, not exactly the life of a tech startup founder you might expect from one of the most well-known businesspeople in the world. After that, Musk learned to cut logs with a chain saw in Vancouver, British Columbia.', \"Trending: This Adobe-backed AI marketing startup went from a $5 to $85 million valuation working with brands like L'Oréal, Hasbro, and Sweetgreen in just three years – here's how there's an opportunity to invest at $1,000 for only $0.50/share today.\", 'But Musk’s hardest job during his time in Canada was working in a lumber mill’s boiler room. After asking at the unemployment office which job paid the most, Musk took on a grueling gig that paid $18 an hour – good money for 1989, but at a steep cost.', 'The work was exhausting and dangerous, involving crawling through small tunnels wearing a hazmat suit to “shovel [sand and goop] through the same hole you came through.” The conditions were so tough that most workers didn’t last long. According to Musk, out of 30 people who started the job with him, only five were left by the third day. By the end of the week, just Musk and two others were still shoveling.', 'Trending: Warren Buffett once said, \"If you don\\'t find a way to make money while you sleep, you will work until you die.\" These high-yield real estate notes that pay 7.5% – 9% make earning passive income easier than ever.', '“There is no escape,” Musk said in the biography. The job required him to crawl into a small space, shovel the hot residue through the same hole and hope the person on the other side managed to clear it out. It was physically demanding and the heat made it dangerous if anyone stayed too long inside.', 'After a few stints working odd jobs across Canada, Musk eventually enrolled at Queen’s University in Ontario and then transferred to the University of Pennsylvania in the United States. He earned degrees in physics and economics, but not without keeping his entrepreneurial spirit alive. To help pay for tuition, Musk hosted large, ticketed house parties, turning his college house into a nightclub on the weekends.', 'See Also: If there was a new fund backed by Jeff Bezos offering a 7-9% target yield with monthly dividends would you invest in it?', 'Musk’s early years were full of tough work and key decisions to keep him on track. He even turned down a spot in Stanford’s graduate program to jump into the booming internet scene instead. He cofounded Zip2, which later sold for $300 million and used the money to start X.com, which eventually became PayPal.', 'That sale to eBay for $1.5 billion gave Musk the financial boost he needed to launch SpaceX and Tesla – ventures that would make him one of the richest people in the world.', 'Read Next:', 'A billion-dollar investment strategy with minimums as low as $10 — you can become part of the next big real estate boom today.', 'During market downturns, investors are learning that unlike equities, these high-yield real estate notes that pay 7.5% – 9% are protected by resilient assets, buffering against losses.', 'UNLOCKED: 5 NEW TRADES EVERY WEEK. Click now to get top trade ideas daily, plus unlimited access to cutting-edge tools and strategies to gain an edge in the markets.', 'Get the latest stock analysis from Benzinga?', 'APPLE (AAPL): Free Stock Analysis Report', 'TESLA (TSLA): Free Stock Analysis Report', \"This article Elon Musk Spent His Teen Years Working Odd Jobs In Canada. For $18 An Hour, He'd Clean The Boiler Room With 'No Escape' In A Lumber Mill originally appeared on Benzinga.com\", '© 2024 Benzinga.com. Benzinga does not provide investment advice. All rights reserved.']\n",
      "['Tesla (TSLA) on Thursday tried to show off its Optimus project again after an event featuring them last week “tricked” some analysts who were unaware the humanoid robots were being assisted remotely.', 'Read More', 'Tesla’s big autonomy event last night was mainly focused around the two-seat Cybercab and art deco city bus Robovan, but the company also talked about some updates to Optimus — the painfully slow robot that Elon Musk hopes will be an infinite money glitch for the company. The event’s afterparty heavily featured Optimus as a bartender and dancer, but it turns out the bot wasn’t doing anything itself. Tesla employees were remote controlling it the whole time.', 'Read More', 'About 10% of electric vehicle owners regret their purchases, according to a new survey, though the figure varies significantly depending on the automaker.', 'Read More', 'There’s no denying it, the long-delayed launch of the Cybertruck has been a sales success for Tesla. The angular behemoth has become one of the best-selling six-figure cars and it’s now the third-best-selling electric vehicle in America. That impressive run could be coming to an end, however, as it sounds like Tesla may have reached the bottom of its reservation list.', 'Read More', 'The world watched with mild interest as Tesla boss Elon Musk unveiled his vision for our autonomous future at a glitzy event in Los Angeles last week. The launch included the unveiling of an autonomous bus, called the Robovan, and a self-driving taxi that Tesla calls the Cybercab. The company hopes to roll out a swarm of these autonomous vehicles before 2027, says Musk, but Tesla has a few hurdles to overcome before then.', 'Read More', 'Plug-in hybrids are proving to not be the transitional bridge between gas-powered cars and electric vehicles many folks were hoping for. That’s a shame because when used properly, PHEVs are absolutely fantastic. A study from JD Power is shedding new light on how and why customers are unsatisfied with their plug-in hybrids.', 'Read More', 'Police in California are experiencing what happens when good intentions crash into reality. Police departments are transitioning to battery powered vehicles but those vehicles come with challenges that make cops’ jobs more difficult.', 'Read More', 'Amazon (AMZN) unveiled a suite of Kindle devices Wednesday, including its first e-reader to have a color display.', 'The Kindle Colorsoft will retail for $279.99 and start shipping on Oct. 30. It will allow users to see the color of book titles and to add different colored highlights to text.', 'Read More', 'Elon Musk’s Tesla (TSLA) is being investigated by federal regulators after one of its vehicles equipped with driver-assistance technology fatally struck a pedestrian.', 'Read More', 'General Motors (GM) is increasing its investment in a Nevada lithium mine and its operator to almost $1 billion as it looks to secure a long-term supply of a critical mineral for electric vehicle batteries.', 'Read More', 'For the latest news, Facebook, Twitter and Instagram.']\n"
     ]
    }
   ],
   "source": [
    "# Scrape all related articles\n",
    "for url in urls:\n",
    "    article_text = get_news_info(url)\n",
    "    print(article_text)"
   ]
  },
  {
   "cell_type": "code",
   "execution_count": 195,
   "metadata": {},
   "outputs": [],
   "source": [
    "driver.quit()"
   ]
  },
  {
   "cell_type": "code",
   "execution_count": null,
   "metadata": {},
   "outputs": [],
   "source": []
  }
 ],
 "metadata": {
  "kernelspec": {
   "display_name": "venv",
   "language": "python",
   "name": "python3"
  },
  "language_info": {
   "codemirror_mode": {
    "name": "ipython",
    "version": 3
   },
   "file_extension": ".py",
   "mimetype": "text/x-python",
   "name": "python",
   "nbconvert_exporter": "python",
   "pygments_lexer": "ipython3",
   "version": "3.12.4"
  }
 },
 "nbformat": 4,
 "nbformat_minor": 2
}
